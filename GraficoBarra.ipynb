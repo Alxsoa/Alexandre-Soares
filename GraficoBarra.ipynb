{
  "nbformat": 4,
  "nbformat_minor": 0,
  "metadata": {
    "colab": {
      "name": "GraficoBarra.ipynb",
      "provenance": [],
      "collapsed_sections": [],
      "authorship_tag": "ABX9TyO5Ny3OEGFACLCrps/w88iE",
      "include_colab_link": true
    },
    "kernelspec": {
      "name": "python3",
      "display_name": "Python 3"
    }
  },
  "cells": [
    {
      "cell_type": "markdown",
      "metadata": {
        "id": "view-in-github",
        "colab_type": "text"
      },
      "source": [
        "<a href=\"https://colab.research.google.com/github/Alxsoa/Alexandre-Soares/blob/main/GraficoBarra.ipynb\" target=\"_parent\"><img src=\"https://colab.research.google.com/assets/colab-badge.svg\" alt=\"Open In Colab\"/></a>"
      ]
    },
    {
      "cell_type": "code",
      "metadata": {
        "colab": {
          "base_uri": "https://localhost:8080/",
          "height": 137
        },
        "id": "1dVOdVtiXhrX",
        "outputId": "be827023-f077-4251-f918-8aa576e32aa9"
      },
      "source": [
        "#\n",
        "#######################################################################\n",
        "# Objetivo\n",
        "# Usar graficos em barra \n",
        "#\n",
        "# https://pandas.pydata.org/pandas-docs/stable/reference/api/pandas.DataFrame.plot.bar.html\n",
        "# https://pandas.pydata.org/pandas-docs/stable/reference/api/pandas.DataFrame.from_dict.html\n",
        "#\n",
        "#######################################################################\n",
        "#\n",
        "\n",
        "#\n",
        "#######################################################################\n",
        "# Importando as Bibliotecas\n",
        "#######################################################################\n",
        "#\n",
        "import pandas as pd\n",
        "import matplotlib\n",
        "import matplotlib.pyplot as plt\n",
        "\n",
        "#\n",
        "#######################################################################\n",
        "# Dicionario de Dados e Transformacao para DataFrame\n",
        "#######################################################################\n",
        "#\n",
        "Dados = {'Lab':['Laboratorio_A', 'Laboratorio_B', 'Laboratorio_C'], 'Valor':[10, 30, 20]}\n",
        "df = pd.DataFrame.from_dict(Dados)\n",
        "df\n"
      ],
      "execution_count": 25,
      "outputs": [
        {
          "output_type": "execute_result",
          "data": {
            "text/html": [
              "<div>\n",
              "<style scoped>\n",
              "    .dataframe tbody tr th:only-of-type {\n",
              "        vertical-align: middle;\n",
              "    }\n",
              "\n",
              "    .dataframe tbody tr th {\n",
              "        vertical-align: top;\n",
              "    }\n",
              "\n",
              "    .dataframe thead th {\n",
              "        text-align: right;\n",
              "    }\n",
              "</style>\n",
              "<table border=\"1\" class=\"dataframe\">\n",
              "  <thead>\n",
              "    <tr style=\"text-align: right;\">\n",
              "      <th></th>\n",
              "      <th>Lab</th>\n",
              "      <th>Valor</th>\n",
              "    </tr>\n",
              "  </thead>\n",
              "  <tbody>\n",
              "    <tr>\n",
              "      <th>0</th>\n",
              "      <td>Laboratorio_A</td>\n",
              "      <td>10</td>\n",
              "    </tr>\n",
              "    <tr>\n",
              "      <th>1</th>\n",
              "      <td>Laboratorio_B</td>\n",
              "      <td>30</td>\n",
              "    </tr>\n",
              "    <tr>\n",
              "      <th>2</th>\n",
              "      <td>Laboratorio_C</td>\n",
              "      <td>20</td>\n",
              "    </tr>\n",
              "  </tbody>\n",
              "</table>\n",
              "</div>"
            ],
            "text/plain": [
              "             Lab  Valor\n",
              "0  Laboratorio_A     10\n",
              "1  Laboratorio_B     30\n",
              "2  Laboratorio_C     20"
            ]
          },
          "metadata": {
            "tags": []
          },
          "execution_count": 25
        }
      ]
    },
    {
      "cell_type": "code",
      "metadata": {
        "colab": {
          "base_uri": "https://localhost:8080/",
          "height": 528
        },
        "id": "tsZNIgc01bZ_",
        "outputId": "e0b618bd-f2d1-4e55-9a9e-8d56b3bddcb8"
      },
      "source": [
        "#\n",
        "#######################################################################\n",
        "# Grafico\n",
        "#######################################################################\n",
        "#\n",
        "df.plot(kind='bar', x='Lab', figsize=(10,7))\n",
        "plt.grid(which='major', axis='y', linestyle='-', color='k', linewidth=1)\n",
        "plt.title ('Um Título a Ser Usado\\n', fontsize=16, fontweight='bold')\n",
        "plt.ylabel('Eixo Y', fontsize=16, fontweight='bold')\n",
        "plt.xlabel('Eixo X', fontsize=16, fontweight='bold')\n",
        "plt.xticks(rotation=45)\n",
        "plt.show()"
      ],
      "execution_count": 26,
      "outputs": [
        {
          "output_type": "display_data",
          "data": {
            "image/png": "[encoded data removed]",
            "text/plain": [
              "<Figure size 720x504 with 1 Axes>"
            ]
          },
          "metadata": {
            "tags": [],
            "needs_background": "light"
          }
        }
      ]
    },
    {
      "cell_type": "code",
      "metadata": {
        "colab": {
          "base_uri": "https://localhost:8080/",
          "height": 257
        },
        "id": "106_aeWKZwT_",
        "outputId": "102efa26-fced-4ad0-bddd-f5290e32f164"
      },
      "source": [
        "\n",
        "#\n",
        "#######################################################################\n",
        "# Dicionario de Dados e Transformacao para DataFrame\n",
        "#######################################################################\n",
        "#\n",
        "index = ['snail', 'pig', 'elephant', 'rabbit', 'giraffe', 'coyote', 'horse']\n",
        "Dados = {'speed':[0.1, 17.5, 40, 48, 52, 69, 88], 'lifespan':[2, 8, 70, 1.5, 25, 12, 28]}\n",
        "df = pd.DataFrame(Dados, index=index)\n",
        "df"
      ],
      "execution_count": 27,
      "outputs": [
        {
          "output_type": "execute_result",
          "data": {
            "text/html": [
              "<div>\n",
              "<style scoped>\n",
              "    .dataframe tbody tr th:only-of-type {\n",
              "        vertical-align: middle;\n",
              "    }\n",
              "\n",
              "    .dataframe tbody tr th {\n",
              "        vertical-align: top;\n",
              "    }\n",
              "\n",
              "    .dataframe thead th {\n",
              "        text-align: right;\n",
              "    }\n",
              "</style>\n",
              "<table border=\"1\" class=\"dataframe\">\n",
              "  <thead>\n",
              "    <tr style=\"text-align: right;\">\n",
              "      <th></th>\n",
              "      <th>speed</th>\n",
              "      <th>lifespan</th>\n",
              "    </tr>\n",
              "  </thead>\n",
              "  <tbody>\n",
              "    <tr>\n",
              "      <th>snail</th>\n",
              "      <td>0.1</td>\n",
              "      <td>2.0</td>\n",
              "    </tr>\n",
              "    <tr>\n",
              "      <th>pig</th>\n",
              "      <td>17.5</td>\n",
              "      <td>8.0</td>\n",
              "    </tr>\n",
              "    <tr>\n",
              "      <th>elephant</th>\n",
              "      <td>40.0</td>\n",
              "      <td>70.0</td>\n",
              "    </tr>\n",
              "    <tr>\n",
              "      <th>rabbit</th>\n",
              "      <td>48.0</td>\n",
              "      <td>1.5</td>\n",
              "    </tr>\n",
              "    <tr>\n",
              "      <th>giraffe</th>\n",
              "      <td>52.0</td>\n",
              "      <td>25.0</td>\n",
              "    </tr>\n",
              "    <tr>\n",
              "      <th>coyote</th>\n",
              "      <td>69.0</td>\n",
              "      <td>12.0</td>\n",
              "    </tr>\n",
              "    <tr>\n",
              "      <th>horse</th>\n",
              "      <td>88.0</td>\n",
              "      <td>28.0</td>\n",
              "    </tr>\n",
              "  </tbody>\n",
              "</table>\n",
              "</div>"
            ],
            "text/plain": [
              "          speed  lifespan\n",
              "snail       0.1       2.0\n",
              "pig        17.5       8.0\n",
              "elephant   40.0      70.0\n",
              "rabbit     48.0       1.5\n",
              "giraffe    52.0      25.0\n",
              "coyote     69.0      12.0\n",
              "horse      88.0      28.0"
            ]
          },
          "metadata": {
            "tags": []
          },
          "execution_count": 27
        }
      ]
    },
    {
      "cell_type": "code",
      "metadata": {
        "colab": {
          "base_uri": "https://localhost:8080/",
          "height": 511
        },
        "id": "zr9Tun-L4uN1",
        "outputId": "ce4d88cf-cc51-4235-8c65-6db1a6431bed"
      },
      "source": [
        "#\n",
        "#######################################################################\n",
        "# Grafico\n",
        "#######################################################################\n",
        "#\n",
        "df.plot(kind='bar', rot=0, figsize=(10,7))\n",
        "plt.grid(which='major', axis='y', linestyle='-', color='k', linewidth=1)\n",
        "plt.title ('Um Título a Ser Usado\\n', fontsize=16, fontweight='bold')\n",
        "plt.ylabel('Eixo Y', fontsize=16, fontweight='bold')\n",
        "plt.xlabel('eixo X', fontsize=16, fontweight='bold')\n",
        "plt.xticks(rotation=45)\n",
        "plt.show()"
      ],
      "execution_count": 34,
      "outputs": [
        {
          "output_type": "display_data",
          "data": {
            "image/png": "[encoded data removed]",
            "text/plain": [
              "<Figure size 720x504 with 1 Axes>"
            ]
          },
          "metadata": {
            "tags": [],
            "needs_background": "light"
          }
        }
      ]
    },
    {
      "cell_type": "code",
      "metadata": {
        "colab": {
          "base_uri": "https://localhost:8080/",
          "height": 227
        },
        "id": "osbWmSo4aAcb",
        "outputId": "62357fc3-363a-44a3-cb50-988ecb5cfa5b"
      },
      "source": [
        "#\n",
        "#######################################################################\n",
        "# Grafico\n",
        "#######################################################################\n",
        "#\n",
        "pd.DataFrame({'speed': speed, 'lifespan': lifespan}, index=index)\n",
        "df.plot(kind='stacked', rot=0, figsize=(10,7))\n",
        "plt.grid(which='major', axis='y', linestyle='-', color='k', linewidth=1)\n",
        "plt.title ('Um Título a Ser Usado\\n', fontsize=16, fontweight='bold')\n",
        "plt.ylabel('Eixo Y', fontsize=16, fontweight='bold')\n",
        "plt.xlabel('eixo X', fontsize=16, fontweight='bold')\n",
        "plt.xticks(rotation=45)\n",
        "plt.show()\n",
        "#ax = df.plot.bar(stacked=True)"
      ],
      "execution_count": 22,
      "outputs": [
        {
          "output_type": "error",
          "ename": "NameError",
          "evalue": "ignored",
          "traceback": [
            "\u001b[0;31m---------------------------------------------------------------------------\u001b[0m",
            "\u001b[0;31mNameError\u001b[0m                                 Traceback (most recent call last)",
            "\u001b[0;32m<ipython-input-22-a214daa38d73>\u001b[0m in \u001b[0;36m<module>\u001b[0;34m()\u001b[0m\n\u001b[1;32m      4\u001b[0m \u001b[0;31m#######################################################################\u001b[0m\u001b[0;34m\u001b[0m\u001b[0;34m\u001b[0m\u001b[0;34m\u001b[0m\u001b[0m\n\u001b[1;32m      5\u001b[0m \u001b[0;31m#\u001b[0m\u001b[0;34m\u001b[0m\u001b[0;34m\u001b[0m\u001b[0;34m\u001b[0m\u001b[0m\n\u001b[0;32m----> 6\u001b[0;31m \u001b[0mpd\u001b[0m\u001b[0;34m.\u001b[0m\u001b[0mDataFrame\u001b[0m\u001b[0;34m(\u001b[0m\u001b[0;34m{\u001b[0m\u001b[0;34m'speed'\u001b[0m\u001b[0;34m:\u001b[0m \u001b[0mspeed\u001b[0m\u001b[0;34m,\u001b[0m \u001b[0;34m'lifespan'\u001b[0m\u001b[0;34m:\u001b[0m \u001b[0mlifespan\u001b[0m\u001b[0;34m}\u001b[0m\u001b[0;34m,\u001b[0m \u001b[0mindex\u001b[0m\u001b[0;34m=\u001b[0m\u001b[0mindex\u001b[0m\u001b[0;34m)\u001b[0m\u001b[0;34m\u001b[0m\u001b[0;34m\u001b[0m\u001b[0m\n\u001b[0m\u001b[1;32m      7\u001b[0m \u001b[0mdf\u001b[0m\u001b[0;34m.\u001b[0m\u001b[0mplot\u001b[0m\u001b[0;34m(\u001b[0m\u001b[0mkind\u001b[0m\u001b[0;34m=\u001b[0m\u001b[0;34m'stacked'\u001b[0m\u001b[0;34m,\u001b[0m \u001b[0mrot\u001b[0m\u001b[0;34m=\u001b[0m\u001b[0;36m0\u001b[0m\u001b[0;34m,\u001b[0m \u001b[0mfigsize\u001b[0m\u001b[0;34m=\u001b[0m\u001b[0;34m(\u001b[0m\u001b[0;36m10\u001b[0m\u001b[0;34m,\u001b[0m\u001b[0;36m7\u001b[0m\u001b[0;34m)\u001b[0m\u001b[0;34m)\u001b[0m\u001b[0;34m\u001b[0m\u001b[0;34m\u001b[0m\u001b[0m\n\u001b[1;32m      8\u001b[0m \u001b[0mplt\u001b[0m\u001b[0;34m.\u001b[0m\u001b[0mgrid\u001b[0m\u001b[0;34m(\u001b[0m\u001b[0mwhich\u001b[0m\u001b[0;34m=\u001b[0m\u001b[0;34m'major'\u001b[0m\u001b[0;34m,\u001b[0m \u001b[0maxis\u001b[0m\u001b[0;34m=\u001b[0m\u001b[0;34m'y'\u001b[0m\u001b[0;34m,\u001b[0m \u001b[0mlinestyle\u001b[0m\u001b[0;34m=\u001b[0m\u001b[0;34m'-'\u001b[0m\u001b[0;34m,\u001b[0m \u001b[0mcolor\u001b[0m\u001b[0;34m=\u001b[0m\u001b[0;34m'k'\u001b[0m\u001b[0;34m,\u001b[0m \u001b[0mlinewidth\u001b[0m\u001b[0;34m=\u001b[0m\u001b[0;36m1\u001b[0m\u001b[0;34m)\u001b[0m\u001b[0;34m\u001b[0m\u001b[0;34m\u001b[0m\u001b[0m\n",
            "\u001b[0;31mNameError\u001b[0m: name 'speed' is not defined"
          ]
        }
      ]
    },
    {
      "cell_type": "code",
      "metadata": {
        "colab": {
          "base_uri": "https://localhost:8080/",
          "height": 264
        },
        "id": "s5PVPf5uaUHp",
        "outputId": "25c80a39-b07a-43ba-aacf-6e87c199de78"
      },
      "source": [
        "#\n",
        "#######################################################################\n",
        "# Dados do Dataframe\n",
        "#######################################################################\n",
        "#\n",
        "df = pd.DataFrame({'lab':['A', 'B', 'C'], 'val':[10, 30, 20]})\n",
        "\n",
        "#\n",
        "#######################################################################\n",
        "# Grafico\n",
        "#######################################################################\n",
        "#\n",
        "ax = df.plot.barh(x='lab', y='val')"
      ],
      "execution_count": null,
      "outputs": [
        {
          "output_type": "display_data",
          "data": {
            "image/png": "[encoded data removed]",
            "text/plain": [
              "<Figure size 432x288 with 1 Axes>"
            ]
          },
          "metadata": {
            "tags": [],
            "needs_background": "light"
          }
        }
      ]
    },
    {
      "cell_type": "code",
      "metadata": {
        "colab": {
          "base_uri": "https://localhost:8080/",
          "height": 264
        },
        "id": "ns4NapZ-aiHg",
        "outputId": "e49f3b68-6cbf-40cf-d8b9-87359d5f8022"
      },
      "source": [
        "speed = [0.1, 17.5, 40, 48, 52, 69, 88]\n",
        "lifespan = [2, 8, 70, 1.5, 25, 12, 28]\n",
        "index = ['snail', 'pig', 'elephant', 'rabbit', 'giraffe', 'coyote', 'horse']\n",
        "df = pd.DataFrame({'speed': speed,\n",
        "                   'lifespan': lifespan}, index=index)\n",
        "ax = df.plot.barh()"
      ],
      "execution_count": null,
      "outputs": [
        {
          "output_type": "display_data",
          "data": {
            "image/png": "[encoded data removed]",
            "text/plain": [
              "<Figure size 432x288 with 1 Axes>"
            ]
          },
          "metadata": {
            "tags": [],
            "needs_background": "light"
          }
        }
      ]
    },
    {
      "cell_type": "code",
      "metadata": {
        "colab": {
          "base_uri": "https://localhost:8080/",
          "height": 264
        },
        "id": "bsSCK8QvamJJ",
        "outputId": "27c76a6b-22a2-49a4-8ca0-3ab98350c8f2"
      },
      "source": [
        "speed = [0.1, 17.5, 40, 48, 52, 69, 88]\n",
        "lifespan = [2, 8, 70, 1.5, 25, 12, 28]\n",
        "index = ['snail', 'pig', 'elephant', 'rabbit', 'giraffe', 'coyote', 'horse']\n",
        "df = pd.DataFrame({'speed': speed, \n",
        "                   'lifespan': lifespan}, index=index)\n",
        "ax = df.plot.barh(stacked=True)"
      ],
      "execution_count": null,
      "outputs": [
        {
          "output_type": "display_data",
          "data": {
            "image/png": "[encoded data removed]",
            "text/plain": [
              "<Figure size 432x288 with 1 Axes>"
            ]
          },
          "metadata": {
            "tags": [],
            "needs_background": "light"
          }
        }
      ]
    }
  ]
}